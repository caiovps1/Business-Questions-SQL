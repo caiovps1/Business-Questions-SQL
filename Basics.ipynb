{
 "cells": [
  {
   "cell_type": "markdown",
   "metadata": {},
   "source": [
    "# Guided Project: Answering Business Questions using SQL\n",
    "\n",
    "In this guided project, we're going to practice using our SQL skills to answer business questions.\n",
    "\n",
    "Firstly, we will explore the database a little, to get more used to it."
   ]
  },
  {
   "cell_type": "code",
   "execution_count": 44,
   "metadata": {
    "collapsed": false
   },
   "outputs": [
    {
     "data": {
      "text/plain": [
       "'Connected: None@chinook.db'"
      ]
     },
     "execution_count": 44,
     "metadata": {},
     "output_type": "execute_result"
    }
   ],
   "source": [
    "%%capture\n",
    "%load_ext sql\n",
    "%sql sqlite:///chinook.db"
   ]
  },
  {
   "cell_type": "code",
   "execution_count": 45,
   "metadata": {
    "collapsed": false
   },
   "outputs": [
    {
     "name": "stdout",
     "output_type": "stream",
     "text": [
      "Done.\n"
     ]
    },
    {
     "data": {
      "text/html": [
       "<table>\n",
       "    <tr>\n",
       "        <th>name</th>\n",
       "        <th>type</th>\n",
       "    </tr>\n",
       "    <tr>\n",
       "        <td>album</td>\n",
       "        <td>table</td>\n",
       "    </tr>\n",
       "    <tr>\n",
       "        <td>artist</td>\n",
       "        <td>table</td>\n",
       "    </tr>\n",
       "    <tr>\n",
       "        <td>customer</td>\n",
       "        <td>table</td>\n",
       "    </tr>\n",
       "    <tr>\n",
       "        <td>employee</td>\n",
       "        <td>table</td>\n",
       "    </tr>\n",
       "    <tr>\n",
       "        <td>genre</td>\n",
       "        <td>table</td>\n",
       "    </tr>\n",
       "    <tr>\n",
       "        <td>invoice</td>\n",
       "        <td>table</td>\n",
       "    </tr>\n",
       "    <tr>\n",
       "        <td>invoice_line</td>\n",
       "        <td>table</td>\n",
       "    </tr>\n",
       "    <tr>\n",
       "        <td>media_type</td>\n",
       "        <td>table</td>\n",
       "    </tr>\n",
       "    <tr>\n",
       "        <td>playlist</td>\n",
       "        <td>table</td>\n",
       "    </tr>\n",
       "    <tr>\n",
       "        <td>playlist_track</td>\n",
       "        <td>table</td>\n",
       "    </tr>\n",
       "    <tr>\n",
       "        <td>track</td>\n",
       "        <td>table</td>\n",
       "    </tr>\n",
       "</table>"
      ],
      "text/plain": [
       "[('album', 'table'),\n",
       " ('artist', 'table'),\n",
       " ('customer', 'table'),\n",
       " ('employee', 'table'),\n",
       " ('genre', 'table'),\n",
       " ('invoice', 'table'),\n",
       " ('invoice_line', 'table'),\n",
       " ('media_type', 'table'),\n",
       " ('playlist', 'table'),\n",
       " ('playlist_track', 'table'),\n",
       " ('track', 'table')]"
      ]
     },
     "execution_count": 45,
     "metadata": {},
     "output_type": "execute_result"
    }
   ],
   "source": [
    "%%sql\n",
    "SELECT\n",
    "    name,\n",
    "    type\n",
    "FROM sqlite_master\n",
    "WHERE type IN (\"table\",\"view\");"
   ]
  },
  {
   "cell_type": "markdown",
   "metadata": {},
   "source": [
    "## Selecting Albums to Purchase \n",
    "The Chinook record store has just signed a deal with a new record label, and you've been tasked with selecting the first three albums that will be added to the store, from a list of four. All four albums are by artists that don't have any tracks in the store right now - we have the artist names, and the genre of music they produce:\n",
    "\n",
    "Artist Name | Genre\n",
    "--- | --- \n",
    "Regal | Hip-hop\n",
    "Red Tone | Punk\n",
    "Meteor and the Girls | Pop\n",
    "Slim Jim Bites | Blues\n",
    "\n",
    "The record label specializes in artists from the USA, and they have given Chinook some money to advertise the new albums in the USA, so we're interested in finding out which genres sell the best in the USA.\n",
    "\n",
    "We'll need to write a query to find out which genres sell the most tracks in the USA, write up a summary of your findings, and make a recommendation for the three artists whose albums we should purchase for the store."
   ]
  },
  {
   "cell_type": "code",
   "execution_count": 46,
   "metadata": {
    "collapsed": false
   },
   "outputs": [
    {
     "name": "stdout",
     "output_type": "stream",
     "text": [
      "Done.\n"
     ]
    },
    {
     "data": {
      "text/html": [
       "<table>\n",
       "    <tr>\n",
       "        <th>genre</th>\n",
       "        <th>tracks_sold</th>\n",
       "        <th>tracks_sold_percentage</th>\n",
       "    </tr>\n",
       "    <tr>\n",
       "        <td>Rock</td>\n",
       "        <td>561</td>\n",
       "        <td>0.5338</td>\n",
       "    </tr>\n",
       "    <tr>\n",
       "        <td>Alternative &amp; Punk</td>\n",
       "        <td>130</td>\n",
       "        <td>0.1237</td>\n",
       "    </tr>\n",
       "    <tr>\n",
       "        <td>Metal</td>\n",
       "        <td>124</td>\n",
       "        <td>0.118</td>\n",
       "    </tr>\n",
       "    <tr>\n",
       "        <td>R&amp;B/Soul</td>\n",
       "        <td>53</td>\n",
       "        <td>0.0504</td>\n",
       "    </tr>\n",
       "    <tr>\n",
       "        <td>Blues</td>\n",
       "        <td>36</td>\n",
       "        <td>0.0343</td>\n",
       "    </tr>\n",
       "    <tr>\n",
       "        <td>Alternative</td>\n",
       "        <td>35</td>\n",
       "        <td>0.0333</td>\n",
       "    </tr>\n",
       "    <tr>\n",
       "        <td>Latin</td>\n",
       "        <td>22</td>\n",
       "        <td>0.0209</td>\n",
       "    </tr>\n",
       "    <tr>\n",
       "        <td>Pop</td>\n",
       "        <td>22</td>\n",
       "        <td>0.0209</td>\n",
       "    </tr>\n",
       "    <tr>\n",
       "        <td>Hip Hop/Rap</td>\n",
       "        <td>20</td>\n",
       "        <td>0.019</td>\n",
       "    </tr>\n",
       "    <tr>\n",
       "        <td>Jazz</td>\n",
       "        <td>14</td>\n",
       "        <td>0.0133</td>\n",
       "    </tr>\n",
       "    <tr>\n",
       "        <td>Easy Listening</td>\n",
       "        <td>13</td>\n",
       "        <td>0.0124</td>\n",
       "    </tr>\n",
       "    <tr>\n",
       "        <td>Reggae</td>\n",
       "        <td>6</td>\n",
       "        <td>0.0057</td>\n",
       "    </tr>\n",
       "    <tr>\n",
       "        <td>Electronica/Dance</td>\n",
       "        <td>5</td>\n",
       "        <td>0.0048</td>\n",
       "    </tr>\n",
       "    <tr>\n",
       "        <td>Classical</td>\n",
       "        <td>4</td>\n",
       "        <td>0.0038</td>\n",
       "    </tr>\n",
       "    <tr>\n",
       "        <td>Heavy Metal</td>\n",
       "        <td>3</td>\n",
       "        <td>0.0029</td>\n",
       "    </tr>\n",
       "    <tr>\n",
       "        <td>Soundtrack</td>\n",
       "        <td>2</td>\n",
       "        <td>0.0019</td>\n",
       "    </tr>\n",
       "    <tr>\n",
       "        <td>TV Shows</td>\n",
       "        <td>1</td>\n",
       "        <td>0.001</td>\n",
       "    </tr>\n",
       "</table>"
      ],
      "text/plain": [
       "[('Rock', 561, 0.5338),\n",
       " ('Alternative & Punk', 130, 0.1237),\n",
       " ('Metal', 124, 0.118),\n",
       " ('R&B/Soul', 53, 0.0504),\n",
       " ('Blues', 36, 0.0343),\n",
       " ('Alternative', 35, 0.0333),\n",
       " ('Latin', 22, 0.0209),\n",
       " ('Pop', 22, 0.0209),\n",
       " ('Hip Hop/Rap', 20, 0.019),\n",
       " ('Jazz', 14, 0.0133),\n",
       " ('Easy Listening', 13, 0.0124),\n",
       " ('Reggae', 6, 0.0057),\n",
       " ('Electronica/Dance', 5, 0.0048),\n",
       " ('Classical', 4, 0.0038),\n",
       " ('Heavy Metal', 3, 0.0029),\n",
       " ('Soundtrack', 2, 0.0019),\n",
       " ('TV Shows', 1, 0.001)]"
      ]
     },
     "execution_count": 46,
     "metadata": {},
     "output_type": "execute_result"
    }
   ],
   "source": [
    "%%sql\n",
    "WITH\n",
    "    usa_tracks_sold AS\n",
    "    (\n",
    "    SELECT\n",
    "        il.*\n",
    "    FROM invoice_line il\n",
    "    INNER JOIN invoice i ON i.invoice_id = il.invoice_id\n",
    "    INNER JOIN customer c ON c.customer_id = i.customer_id\n",
    "    WHERE c.country = 'USA'\n",
    "    ),\n",
    "    track_genre AS\n",
    "    (\n",
    "    SELECT\n",
    "        t.track_id track_id,\n",
    "        t.name track_name,\n",
    "        g.name genre\n",
    "    FROM track t\n",
    "    INNER JOIN genre g ON g.genre_id = t.genre_id\n",
    "    )\n",
    "\n",
    "SELECT \n",
    "    tg.genre genre,\n",
    "    COUNT(uts.invoice_line_id) tracks_sold,\n",
    "    ROUND(\n",
    "            CAST(COUNT(uts.invoice_line_id) as Float)/\n",
    "                                    (SELECT COUNT(*)\n",
    "                                     FROM usa_tracks_sold\n",
    "                                    ), 4\n",
    "         ) tracks_sold_percentage\n",
    "FROM usa_tracks_sold uts\n",
    "INNER JOIN track_genre tg ON tg.track_id = uts.track_id\n",
    "GROUP BY 1\n",
    "ORDER BY 2 DESC;"
   ]
  },
  {
   "cell_type": "markdown",
   "metadata": {},
   "source": [
    "As we can only choose three of the four albums shown, based on the number of sales per genre, we can assume that the most appropriate ones to be added are from the artists:\n",
    "- Red Tone (Punk)\n",
    "- Slim Jim Bites (Blues)\n",
    "- Meteor and the Girls (Pop)\n",
    "\n",
    "It's worth noticing that the vast majority of tracks sold in the USA are Rock ones with 53.38% of all sales, so we should be on the lookout for artists and albums from the 'rock' genre.\n",
    "\n",
    "## Analyzing Employee Sales Performance\n",
    "\n",
    "We are going to find the total dollar amount of sales assigned to each sales support agent within the company to see if any one of them is performing either better or worse than the others."
   ]
  },
  {
   "cell_type": "code",
   "execution_count": 47,
   "metadata": {
    "collapsed": true
   },
   "outputs": [],
   "source": [
    "# colocar employee_id (só sales support agent), employee_name, \n",
    "# total_sales, total_customers_assigned, total_dollars_sold,\n",
    "# dollars_per_sale"
   ]
  },
  {
   "cell_type": "code",
   "execution_count": 48,
   "metadata": {
    "collapsed": false
   },
   "outputs": [
    {
     "name": "stdout",
     "output_type": "stream",
     "text": [
      "Done.\n"
     ]
    },
    {
     "data": {
      "text/html": [
       "<table>\n",
       "    <tr>\n",
       "        <th>agent_id</th>\n",
       "        <th>agent_name</th>\n",
       "        <th>hire_date</th>\n",
       "        <th>total_sales</th>\n",
       "        <th>total_customers</th>\n",
       "        <th>total_dollars_sold</th>\n",
       "        <th>dollars_per_sale</th>\n",
       "    </tr>\n",
       "    <tr>\n",
       "        <td>3</td>\n",
       "        <td>Jane Peacock</td>\n",
       "        <td>2017-04-01 00:00:00</td>\n",
       "        <td>212</td>\n",
       "        <td>21</td>\n",
       "        <td>1731.5099999999998</td>\n",
       "        <td>8.167499999999999</td>\n",
       "    </tr>\n",
       "    <tr>\n",
       "        <td>4</td>\n",
       "        <td>Margaret Park</td>\n",
       "        <td>2017-05-03 00:00:00</td>\n",
       "        <td>214</td>\n",
       "        <td>20</td>\n",
       "        <td>1584.0000000000002</td>\n",
       "        <td>7.4018691588785055</td>\n",
       "    </tr>\n",
       "    <tr>\n",
       "        <td>5</td>\n",
       "        <td>Steve Johnson</td>\n",
       "        <td>2017-10-17 00:00:00</td>\n",
       "        <td>188</td>\n",
       "        <td>18</td>\n",
       "        <td>1393.92</td>\n",
       "        <td>7.4144680851063836</td>\n",
       "    </tr>\n",
       "</table>"
      ],
      "text/plain": [
       "[(3, 'Jane Peacock', '2017-04-01 00:00:00', 212, 21, 1731.5099999999998, 8.167499999999999),\n",
       " (4, 'Margaret Park', '2017-05-03 00:00:00', 214, 20, 1584.0000000000002, 7.4018691588785055),\n",
       " (5, 'Steve Johnson', '2017-10-17 00:00:00', 188, 18, 1393.92, 7.4144680851063836)]"
      ]
     },
     "execution_count": 48,
     "metadata": {},
     "output_type": "execute_result"
    }
   ],
   "source": [
    "%%sql\n",
    "WITH\n",
    "    sales_support_agent AS\n",
    "    (  \n",
    "    SELECT\n",
    "        employee_id agent_id,\n",
    "        e.first_name || \" \" || e.last_name agent_name,\n",
    "        hire_date        \n",
    "    FROM employee e\n",
    "    WHERE title = 'Sales Support Agent'\n",
    "    ),\n",
    "    customers_buys AS\n",
    "    (\n",
    "    SELECT\n",
    "        i.customer_id customer_id,\n",
    "        COUNT(i.invoice_id) total_buys,\n",
    "        SUM(i.total) total_spent,\n",
    "        c.support_rep_id agent_id        \n",
    "    FROM invoice i\n",
    "    INNER JOIN customer c ON c.customer_id = i.customer_id\n",
    "    GROUP BY 1\n",
    "    )\n",
    "    \n",
    "SELECT\n",
    "    ssa.agent_id agent_id,\n",
    "    ssa.agent_name agent_name,\n",
    "    ssa.hire_date hire_date,\n",
    "    SUM(cb.total_buys) total_sales,\n",
    "    COUNT(cb.customer_id) total_customers,\n",
    "    SUM(cb.total_spent) total_dollars_sold,\n",
    "    CAST(SUM(cb.total_spent) as Float)/\n",
    "    CAST(SUM(cb.total_buys) as Float) dollars_per_sale\n",
    "FROM sales_support_agent ssa\n",
    "INNER JOIN customers_buys cb ON cb.agent_id = ssa.agent_id\n",
    "GROUP BY 1\n",
    "ORDER BY 5 DESC"
   ]
  },
  {
   "cell_type": "markdown",
   "metadata": {
    "collapsed": false
   },
   "source": [
    "We can see that there is a 20% difference between the top sales support agent and the one that sold less, but this is explained by the different hire dates. The employees have similar dollars per sale, although Jane Peacock is a bit better than the others in this.\n",
    "\n",
    "## Analyzing Sales by Country\n",
    "\n",
    "In this task, we'll analyze the sales data for customers from each different country. In particular, we want to find out, for each country, the total number of customers, the total value of sales, the average value of sales per customer and the average order value.\n",
    "\n",
    "Because there are a number of countries with only one customer, we will group these customers as \"Other\" in the analysis. "
   ]
  },
  {
   "cell_type": "code",
   "execution_count": 49,
   "metadata": {
    "collapsed": false
   },
   "outputs": [
    {
     "name": "stdout",
     "output_type": "stream",
     "text": [
      "Done.\n"
     ]
    },
    {
     "data": {
      "text/html": [
       "<table>\n",
       "    <tr>\n",
       "        <th>country</th>\n",
       "        <th>total_customers</th>\n",
       "        <th>total_value</th>\n",
       "        <th>avg_value_customer</th>\n",
       "        <th>avg_order_value</th>\n",
       "    </tr>\n",
       "    <tr>\n",
       "        <td>Other</td>\n",
       "        <td>15</td>\n",
       "        <td>1094.94</td>\n",
       "        <td>72.99600000000001</td>\n",
       "        <td>7.448571428571429</td>\n",
       "    </tr>\n",
       "    <tr>\n",
       "        <td>USA</td>\n",
       "        <td>13</td>\n",
       "        <td>1040.49</td>\n",
       "        <td>80.03769230769231</td>\n",
       "        <td>7.942671755725191</td>\n",
       "    </tr>\n",
       "    <tr>\n",
       "        <td>Canada</td>\n",
       "        <td>8</td>\n",
       "        <td>535.59</td>\n",
       "        <td>66.94875</td>\n",
       "        <td>7.047236842105264</td>\n",
       "    </tr>\n",
       "    <tr>\n",
       "        <td>Brazil</td>\n",
       "        <td>5</td>\n",
       "        <td>427.67999999999995</td>\n",
       "        <td>85.53599999999999</td>\n",
       "        <td>7.011147540983606</td>\n",
       "    </tr>\n",
       "    <tr>\n",
       "        <td>France</td>\n",
       "        <td>5</td>\n",
       "        <td>389.07</td>\n",
       "        <td>77.814</td>\n",
       "        <td>7.7814</td>\n",
       "    </tr>\n",
       "    <tr>\n",
       "        <td>Germany</td>\n",
       "        <td>4</td>\n",
       "        <td>334.62</td>\n",
       "        <td>83.655</td>\n",
       "        <td>8.161463414634147</td>\n",
       "    </tr>\n",
       "    <tr>\n",
       "        <td>United Kingdom</td>\n",
       "        <td>3</td>\n",
       "        <td>245.51999999999998</td>\n",
       "        <td>81.83999999999999</td>\n",
       "        <td>8.768571428571429</td>\n",
       "    </tr>\n",
       "    <tr>\n",
       "        <td>Czech Republic</td>\n",
       "        <td>2</td>\n",
       "        <td>273.24</td>\n",
       "        <td>136.62</td>\n",
       "        <td>9.108</td>\n",
       "    </tr>\n",
       "    <tr>\n",
       "        <td>Portugal</td>\n",
       "        <td>2</td>\n",
       "        <td>185.13</td>\n",
       "        <td>92.565</td>\n",
       "        <td>6.3837931034482756</td>\n",
       "    </tr>\n",
       "    <tr>\n",
       "        <td>India</td>\n",
       "        <td>2</td>\n",
       "        <td>183.14999999999998</td>\n",
       "        <td>91.57499999999999</td>\n",
       "        <td>8.72142857142857</td>\n",
       "    </tr>\n",
       "</table>"
      ],
      "text/plain": [
       "[('Other', 15, 1094.94, 72.99600000000001, 7.448571428571429),\n",
       " ('USA', 13, 1040.49, 80.03769230769231, 7.942671755725191),\n",
       " ('Canada', 8, 535.59, 66.94875, 7.047236842105264),\n",
       " ('Brazil', 5, 427.67999999999995, 85.53599999999999, 7.011147540983606),\n",
       " ('France', 5, 389.07, 77.814, 7.7814),\n",
       " ('Germany', 4, 334.62, 83.655, 8.161463414634147),\n",
       " ('United Kingdom', 3, 245.51999999999998, 81.83999999999999, 8.768571428571429),\n",
       " ('Czech Republic', 2, 273.24, 136.62, 9.108),\n",
       " ('Portugal', 2, 185.13, 92.565, 6.3837931034482756),\n",
       " ('India', 2, 183.14999999999998, 91.57499999999999, 8.72142857142857)]"
      ]
     },
     "execution_count": 49,
     "metadata": {},
     "output_type": "execute_result"
    }
   ],
   "source": [
    "%%sql\n",
    "WITH \n",
    "    customers_buys_country AS\n",
    "        (\n",
    "            SELECT\n",
    "                i.customer_id customer_id,\n",
    "                COUNT(i.invoice_id) total_buys,\n",
    "                SUM(i.total) total_spent,\n",
    "                c.country country,\n",
    "                c.support_rep_id agent_id        \n",
    "            FROM invoice i\n",
    "            INNER JOIN customer c ON c.customer_id = i.customer_id\n",
    "            GROUP BY 1\n",
    "        )\n",
    "\n",
    "SELECT\n",
    "    CASE\n",
    "        WHEN \n",
    "            (\n",
    "            SELECT count(*)\n",
    "            FROM customer\n",
    "            WHERE country = cbc.country\n",
    "            ) = 1 THEN \"Other\"\n",
    "            ELSE cbc.country\n",
    "        END \n",
    "        AS country,\n",
    "    COUNT(cbc.customer_id) total_customers,\n",
    "    SUM(cbc.total_spent) total_value,\n",
    "    CAST(SUM(cbc.total_spent) as Float)/\n",
    "    CAST(COUNT(cbc.customer_id) as Float) avg_value_customer,\n",
    "    CAST(SUM(cbc.total_spent) as Float)/\n",
    "    CASt(SUM(total_buys) as Float) avg_order_value\n",
    "    FROM customers_buys_country cbc    \n",
    "    GROUP BY 1\n",
    "    ORDER BY 2 DESC, 3 DESC;"
   ]
  },
  {
   "cell_type": "code",
   "execution_count": null,
   "metadata": {
    "collapsed": true
   },
   "outputs": [],
   "source": []
  },
  {
   "cell_type": "code",
   "execution_count": null,
   "metadata": {
    "collapsed": false
   },
   "outputs": [],
   "source": []
  },
  {
   "cell_type": "code",
   "execution_count": null,
   "metadata": {
    "collapsed": true
   },
   "outputs": [],
   "source": []
  }
 ],
 "metadata": {
  "kernelspec": {
   "display_name": "Python 3",
   "language": "python",
   "name": "python3"
  },
  "language_info": {
   "codemirror_mode": {
    "name": "ipython",
    "version": 3
   },
   "file_extension": ".py",
   "mimetype": "text/x-python",
   "name": "python",
   "nbconvert_exporter": "python",
   "pygments_lexer": "ipython3",
   "version": "3.4.3"
  }
 },
 "nbformat": 4,
 "nbformat_minor": 2
}
